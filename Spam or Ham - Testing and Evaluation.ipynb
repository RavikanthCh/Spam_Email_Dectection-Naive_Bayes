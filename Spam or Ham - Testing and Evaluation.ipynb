{
 "cells": [
  {
   "cell_type": "markdown",
   "metadata": {},
   "source": [
    "## NOTEBOOK IMPORTS"
   ]
  },
  {
   "cell_type": "code",
   "execution_count": 24,
   "metadata": {},
   "outputs": [],
   "source": [
    "import numpy as np\n",
    "import pandas as pd\n",
    "import matplotlib.pyplot as plt\n",
    "import seaborn as sns\n",
    "from sklearn import metrics\n",
    "\n",
    "%matplotlib inline"
   ]
  },
  {
   "cell_type": "markdown",
   "metadata": {},
   "source": [
    "## CONSTANTS"
   ]
  },
  {
   "cell_type": "code",
   "execution_count": 2,
   "metadata": {},
   "outputs": [],
   "source": [
    "TOKEN_SPAM_PROB_FILE='SpamData/03_Testing/prob_spam.txt'\n",
    "TOKEN_HAM_PROB_FILE='SpamData/03_Testing/prob_nonspam.txt'\n",
    "TOKEN_ALL_PROB_FILE='SpamData/03_Testing/prob_all.txt'\n",
    "\n",
    "TEST_FEATURE_MATRIX='SpamData/03_Testing/test_features.txt'\n",
    "TEST_TARGET_FILE='SpamData/03_Testing/test_target.txt'\n",
    "\n",
    "VOCAB_SIZE=2500"
   ]
  },
  {
   "cell_type": "markdown",
   "metadata": {},
   "source": [
    "## LOAD THE DATA"
   ]
  },
  {
   "cell_type": "code",
   "execution_count": 3,
   "metadata": {},
   "outputs": [],
   "source": [
    "X_test=np.loadtxt(TEST_FEATURE_MATRIX,delimiter=' ')\n",
    "y_test=np.loadtxt(TEST_TARGET_FILE,delimiter=' ')\n",
    "prob_token_spam=np.loadtxt(TOKEN_SPAM_PROB_FILE,delimiter=' ')\n",
    "prob_token_ham=np.loadtxt(TOKEN_HAM_PROB_FILE,delimiter=' ')\n",
    "prob_all_token=np.loadtxt(TOKEN_ALL_PROB_FILE,delimiter=' ')"
   ]
  },
  {
   "cell_type": "markdown",
   "metadata": {},
   "source": [
    "## CALCULATING THE JOINT PROBABILITY\n",
    "\n",
    "### THE DOT PRODUCT"
   ]
  },
  {
   "cell_type": "code",
   "execution_count": 4,
   "metadata": {},
   "outputs": [
    {
     "data": {
      "text/plain": [
       "(1724, 2500)"
      ]
     },
     "execution_count": 4,
     "metadata": {},
     "output_type": "execute_result"
    }
   ],
   "source": [
    "X_test.shape"
   ]
  },
  {
   "cell_type": "code",
   "execution_count": 5,
   "metadata": {},
   "outputs": [
    {
     "data": {
      "text/plain": [
       "(2500,)"
      ]
     },
     "execution_count": 5,
     "metadata": {},
     "output_type": "execute_result"
    }
   ],
   "source": [
    "prob_token_spam.shape"
   ]
  },
  {
   "cell_type": "code",
   "execution_count": 6,
   "metadata": {},
   "outputs": [
    {
     "data": {
      "text/plain": [
       "array([0.41793089, 0.14388672, 0.12419301, ..., 0.56773787, 0.0896434 ,\n",
       "       0.25812794])"
      ]
     },
     "execution_count": 6,
     "metadata": {},
     "output_type": "execute_result"
    }
   ],
   "source": [
    "X_test.dot(prob_token_spam)"
   ]
  },
  {
   "cell_type": "code",
   "execution_count": 7,
   "metadata": {},
   "outputs": [],
   "source": [
    "PROB_SPAM=0.3113"
   ]
  },
  {
   "cell_type": "code",
   "execution_count": 8,
   "metadata": {},
   "outputs": [],
   "source": [
    "PROB_HAM=0.6887"
   ]
  },
  {
   "cell_type": "markdown",
   "metadata": {},
   "source": [
    "\n",
    "\n",
    "### JOINT PROBABILITY IN LOG FORMAT"
   ]
  },
  {
   "cell_type": "code",
   "execution_count": 9,
   "metadata": {},
   "outputs": [],
   "source": [
    "joint_log_spam=X_test.dot(np.log(prob_token_spam)-np.log(prob_all_token))+np.log(PROB_SPAM)"
   ]
  },
  {
   "cell_type": "code",
   "execution_count": 10,
   "metadata": {},
   "outputs": [
    {
     "data": {
      "text/plain": [
       "array([  22.42952352,    1.98026965,   17.83113426, ..., -365.37616615,\n",
       "        -10.08030858, -110.74202721])"
      ]
     },
     "execution_count": 10,
     "metadata": {},
     "output_type": "execute_result"
    }
   ],
   "source": [
    "joint_log_spam"
   ]
  },
  {
   "cell_type": "code",
   "execution_count": 11,
   "metadata": {},
   "outputs": [],
   "source": [
    "joint_log_ham=X_test.dot(np.log(prob_token_ham)-np.log(prob_all_token))+np.log(PROB_HAM)"
   ]
  },
  {
   "cell_type": "code",
   "execution_count": 12,
   "metadata": {},
   "outputs": [
    {
     "data": {
      "text/plain": [
       "array([-5.89963535e+01, -1.08669022e+01, -3.47692846e+01, ...,\n",
       "        5.98074050e+01,  5.23647154e-02,  2.46217881e+01])"
      ]
     },
     "execution_count": 12,
     "metadata": {},
     "output_type": "execute_result"
    }
   ],
   "source": [
    "joint_log_ham"
   ]
  },
  {
   "cell_type": "markdown",
   "metadata": {},
   "source": [
    "### SIMPLIFY"
   ]
  },
  {
   "cell_type": "code",
   "execution_count": 13,
   "metadata": {},
   "outputs": [],
   "source": [
    "joint_log_spam=X_test.dot(np.log(prob_token_spam))+np.log(PROB_SPAM)\n",
    "joint_log_ham=X_test.dot(np.log(prob_token_ham))+np.log(PROB_HAM)"
   ]
  },
  {
   "cell_type": "code",
   "execution_count": 14,
   "metadata": {},
   "outputs": [],
   "source": [
    "prediction=joint_log_spam>joint_log_ham"
   ]
  },
  {
   "cell_type": "markdown",
   "metadata": {},
   "source": [
    "## METRICS AND EVALUATION"
   ]
  },
  {
   "cell_type": "markdown",
   "metadata": {},
   "source": [
    "### ACCURACY"
   ]
  },
  {
   "cell_type": "code",
   "execution_count": 15,
   "metadata": {},
   "outputs": [
    {
     "name": "stdout",
     "output_type": "stream",
     "text": [
      "Docs classified correctly 1685\n",
      "Docs classified in correctly 39\n"
     ]
    }
   ],
   "source": [
    "correct_docs=(y_test==prediction).sum()\n",
    "print('Docs classified correctly',correct_docs)\n",
    "numdocs_wrong=(y_test!=prediction).sum()\n",
    "print('Docs classified in correctly',numdocs_wrong)"
   ]
  },
  {
   "cell_type": "code",
   "execution_count": 16,
   "metadata": {},
   "outputs": [],
   "source": [
    "accuracy=correct_docs/len(y_test)"
   ]
  },
  {
   "cell_type": "code",
   "execution_count": 17,
   "metadata": {},
   "outputs": [
    {
     "data": {
      "text/plain": [
       "0.9773781902552204"
      ]
     },
     "execution_count": 17,
     "metadata": {},
     "output_type": "execute_result"
    }
   ],
   "source": [
    "accuracy"
   ]
  },
  {
   "cell_type": "code",
   "execution_count": 18,
   "metadata": {},
   "outputs": [
    {
     "name": "stdout",
     "output_type": "stream",
     "text": [
      "Accuracy of the model is  97.74\n",
      "Fraction classified incorrectly is  2.26\n"
     ]
    }
   ],
   "source": [
    "print('Accuracy of the model is ', round(accuracy*100,2))\n",
    "print('Fraction classified incorrectly is ', round(100-accuracy*100,2))"
   ]
  },
  {
   "cell_type": "markdown",
   "metadata": {},
   "source": [
    "## VISUALIZING THE RESULT"
   ]
  },
  {
   "cell_type": "code",
   "execution_count": 19,
   "metadata": {},
   "outputs": [],
   "source": [
    "yaxis_label='P( X | Spam)'\n",
    "xaxis_label='P( X | nonspam)'\n",
    "linedata=np.linspace(-14000,1,1000)"
   ]
  },
  {
   "cell_type": "code",
   "execution_count": 20,
   "metadata": {},
   "outputs": [
    {
     "data": {
      "image/png": "[encoded data removed]",
      "text/plain": [
       "<Figure size 792x504 with 1 Axes>"
      ]
     },
     "metadata": {
      "needs_background": "light"
     },
     "output_type": "display_data"
    }
   ],
   "source": [
    "plt.figure(figsize=(11,7))\n",
    "plt.xlabel(xaxis_label)\n",
    "plt.ylabel(yaxis_label)\n",
    "\n",
    "plt.xlim([-14000,1])\n",
    "plt.ylim([-14000,1])\n",
    "\n",
    "plt.scatter(joint_log_ham,joint_log_spam,alpha=0.5,s=20,color='navy')\n",
    "plt.plot(linedata,linedata,color='orange')\n",
    "plt.show()"
   ]
  },
  {
   "cell_type": "markdown",
   "metadata": {},
   "source": [
    "## DECISION BOUNDARY"
   ]
  },
  {
   "cell_type": "code",
   "execution_count": 21,
   "metadata": {},
   "outputs": [
    {
     "data": {
      "image/png": "[encoded data removed]",
      "text/plain": [
       "<Figure size 1080x504 with 2 Axes>"
      ]
     },
     "metadata": {
      "needs_background": "light"
     },
     "output_type": "display_data"
    }
   ],
   "source": [
    "plt.figure(figsize=(15,7))\n",
    "plt.xlabel(xaxis_label)\n",
    "plt.ylabel(yaxis_label)\n",
    "plt.subplot(121)\n",
    "plt.xlim([-14000,1])\n",
    "plt.ylim([-14000,1])\n",
    "\n",
    "plt.scatter(joint_log_ham,joint_log_spam,alpha=0.5,s=20,color='navy')\n",
    "plt.plot(linedata,linedata,color='orange')\n",
    "\n",
    "plt.subplot(122)\n",
    "plt.xlim([-2000,1])\n",
    "plt.ylim([-2000,1])\n",
    "\n",
    "plt.scatter(joint_log_ham,joint_log_spam,alpha=0.5,s=3,color='navy')\n",
    "plt.plot(linedata,linedata,color='orange')\n",
    "plt.show()"
   ]
  },
  {
   "cell_type": "code",
   "execution_count": 22,
   "metadata": {},
   "outputs": [
    {
     "data": {
      "text/plain": [
       "(-2000.0, 1.0)"
      ]
     },
     "execution_count": 22,
     "metadata": {},
     "output_type": "execute_result"
    },
    {
     "data": {
      "image/png": "[encoded data removed]",
      "text/plain": [
       "<Figure size 409.875x360 with 1 Axes>"
      ]
     },
     "metadata": {},
     "output_type": "display_data"
    }
   ],
   "source": [
    "summary_df=pd.DataFrame({'xaxis_label':joint_log_ham,'yaxis_label':joint_log_spam,'labels':y_test})\n",
    "sns.set_style('whitegrid')\n",
    "\n",
    "sns.lmplot(x='xaxis_label',y='yaxis_label',hue='labels',data=summary_df,fit_reg=False,scatter_kws={'alpha':0.3,'s':10})\n",
    "plt.plot(linedata,linedata,color='black')\n",
    "plt.xlim([-2000,1])\n",
    "plt.ylim([-2000,1])"
   ]
  },
  {
   "cell_type": "code",
   "execution_count": null,
   "metadata": {},
   "outputs": [],
   "source": []
  },
  {
   "cell_type": "code",
   "execution_count": 23,
   "metadata": {},
   "outputs": [
    {
     "data": {
      "text/html": [
       "<div>\n",
       "<style scoped>\n",
       "    .dataframe tbody tr th:only-of-type {\n",
       "        vertical-align: middle;\n",
       "    }\n",
       "\n",
       "    .dataframe tbody tr th {\n",
       "        vertical-align: top;\n",
       "    }\n",
       "\n",
       "    .dataframe thead th {\n",
       "        text-align: right;\n",
       "    }\n",
       "</style>\n",
       "<table border=\"1\" class=\"dataframe\">\n",
       "  <thead>\n",
       "    <tr style=\"text-align: right;\">\n",
       "      <th></th>\n",
       "      <th>xaxis_label</th>\n",
       "      <th>yaxis_label</th>\n",
       "      <th>labels</th>\n",
       "    </tr>\n",
       "  </thead>\n",
       "  <tbody>\n",
       "    <tr>\n",
       "      <td>0</td>\n",
       "      <td>-1298.970571</td>\n",
       "      <td>-1217.544694</td>\n",
       "      <td>1.0</td>\n",
       "    </tr>\n",
       "    <tr>\n",
       "      <td>1</td>\n",
       "      <td>-276.045843</td>\n",
       "      <td>-263.198671</td>\n",
       "      <td>1.0</td>\n",
       "    </tr>\n",
       "    <tr>\n",
       "      <td>2</td>\n",
       "      <td>-429.086056</td>\n",
       "      <td>-376.485637</td>\n",
       "      <td>1.0</td>\n",
       "    </tr>\n",
       "    <tr>\n",
       "      <td>3</td>\n",
       "      <td>-1541.650257</td>\n",
       "      <td>-1464.242152</td>\n",
       "      <td>1.0</td>\n",
       "    </tr>\n",
       "    <tr>\n",
       "      <td>4</td>\n",
       "      <td>-1295.475358</td>\n",
       "      <td>-1222.636583</td>\n",
       "      <td>1.0</td>\n",
       "    </tr>\n",
       "    <tr>\n",
       "      <td>...</td>\n",
       "      <td>...</td>\n",
       "      <td>...</td>\n",
       "      <td>...</td>\n",
       "    </tr>\n",
       "    <tr>\n",
       "      <td>1719</td>\n",
       "      <td>-2063.549357</td>\n",
       "      <td>-1947.472897</td>\n",
       "      <td>0.0</td>\n",
       "    </tr>\n",
       "    <tr>\n",
       "      <td>1720</td>\n",
       "      <td>-787.106804</td>\n",
       "      <td>-877.082787</td>\n",
       "      <td>0.0</td>\n",
       "    </tr>\n",
       "    <tr>\n",
       "      <td>1721</td>\n",
       "      <td>-4325.891819</td>\n",
       "      <td>-4751.075390</td>\n",
       "      <td>0.0</td>\n",
       "    </tr>\n",
       "    <tr>\n",
       "      <td>1722</td>\n",
       "      <td>-190.840088</td>\n",
       "      <td>-200.972761</td>\n",
       "      <td>0.0</td>\n",
       "    </tr>\n",
       "    <tr>\n",
       "      <td>1723</td>\n",
       "      <td>-1674.673999</td>\n",
       "      <td>-1810.037814</td>\n",
       "      <td>0.0</td>\n",
       "    </tr>\n",
       "  </tbody>\n",
       "</table>\n",
       "<p>1724 rows × 3 columns</p>\n",
       "</div>"
      ],
      "text/plain": [
       "      xaxis_label  yaxis_label  labels\n",
       "0    -1298.970571 -1217.544694     1.0\n",
       "1     -276.045843  -263.198671     1.0\n",
       "2     -429.086056  -376.485637     1.0\n",
       "3    -1541.650257 -1464.242152     1.0\n",
       "4    -1295.475358 -1222.636583     1.0\n",
       "...           ...          ...     ...\n",
       "1719 -2063.549357 -1947.472897     0.0\n",
       "1720  -787.106804  -877.082787     0.0\n",
       "1721 -4325.891819 -4751.075390     0.0\n",
       "1722  -190.840088  -200.972761     0.0\n",
       "1723 -1674.673999 -1810.037814     0.0\n",
       "\n",
       "[1724 rows x 3 columns]"
      ]
     },
     "execution_count": 23,
     "metadata": {},
     "output_type": "execute_result"
    }
   ],
   "source": [
    "summary_df"
   ]
  },
  {
   "cell_type": "code",
   "execution_count": null,
   "metadata": {},
   "outputs": [],
   "source": []
  },
  {
   "cell_type": "code",
   "execution_count": 30,
   "metadata": {},
   "outputs": [
    {
     "data": {
      "text/plain": [
       "array([[1117,   21],\n",
       "       [  18,  568]], dtype=int64)"
      ]
     },
     "execution_count": 30,
     "metadata": {},
     "output_type": "execute_result"
    }
   ],
   "source": [
    "confusion_matrix = metrics.confusion_matrix(prediction, y_test)\n",
    "confusion_matrix"
   ]
  },
  {
   "cell_type": "code",
   "execution_count": 33,
   "metadata": {},
   "outputs": [],
   "source": [
    "TPR=confusion_matrix[0][0]\n",
    "FPR=confusion_matrix[1][0]\n",
    "FNR=confusion_matrix[0][1]"
   ]
  },
  {
   "cell_type": "code",
   "execution_count": 35,
   "metadata": {},
   "outputs": [
    {
     "data": {
      "text/plain": [
       "0.9841409691629956"
      ]
     },
     "execution_count": 35,
     "metadata": {},
     "output_type": "execute_result"
    }
   ],
   "source": [
    "precision=TPR/(TPR+FPR)\n",
    "precision"
   ]
  },
  {
   "cell_type": "code",
   "execution_count": 37,
   "metadata": {},
   "outputs": [
    {
     "data": {
      "text/plain": [
       "0.9815465729349736"
      ]
     },
     "execution_count": 37,
     "metadata": {},
     "output_type": "execute_result"
    }
   ],
   "source": [
    "recall=TPR/(TPR+FNR)\n",
    "recall"
   ]
  },
  {
   "cell_type": "code",
   "execution_count": 38,
   "metadata": {},
   "outputs": [],
   "source": [
    "F1_score=2*precision*recall/(precision+recall)"
   ]
  },
  {
   "cell_type": "code",
   "execution_count": 39,
   "metadata": {},
   "outputs": [
    {
     "data": {
      "text/plain": [
       "0.9828420589529256"
      ]
     },
     "execution_count": 39,
     "metadata": {},
     "output_type": "execute_result"
    }
   ],
   "source": [
    "F1_score"
   ]
  },
  {
   "cell_type": "code",
   "execution_count": null,
   "metadata": {},
   "outputs": [],
   "source": []
  },
  {
   "cell_type": "code",
   "execution_count": null,
   "metadata": {},
   "outputs": [],
   "source": []
  }
 ],
 "metadata": {
  "kernelspec": {
   "display_name": "Python 3",
   "language": "python",
   "name": "python3"
  },
  "language_info": {
   "codemirror_mode": {
    "name": "ipython",
    "version": 3
   },
   "file_extension": ".py",
   "mimetype": "text/x-python",
   "name": "python",
   "nbconvert_exporter": "python",
   "pygments_lexer": "ipython3",
   "version": "3.7.4"
  }
 },
 "nbformat": 4,
 "nbformat_minor": 2
}
